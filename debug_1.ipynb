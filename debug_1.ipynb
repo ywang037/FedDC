{
 "cells": [
  {
   "cell_type": "code",
   "execution_count": null,
   "metadata": {},
   "outputs": [],
   "source": [
    "from utils_general import *\n",
    "from utils_methods import *\n",
    "import json\n",
    "\n",
    "# from utils_methods_FedDC import train_FedDC"
   ]
  },
  {
   "cell_type": "code",
   "execution_count": null,
   "metadata": {},
   "outputs": [],
   "source": [
    "class config(object):\n",
    "    def __init__(self):\n",
    "        self.dataset=\"cifar10\"\n",
    "        self.device = \"cuda\"\n",
    "        self.comm_round=2\n",
    "        self.lr = 0.01\n",
    "        self.batch_size = 64\n",
    "        self.epochs = 1\n",
    "        self.weight_decay = 1e-3\n",
    "        self.n_parties = 10\n",
    "        self.seed = 42\n",
    "        self.alg=\"fedavg\"\n",
    "        self.rootdir=\"./result/bench2/\"\n",
    "        self.datadir=\"./Folder/\"\n",
    "        self.beta=0.1\n",
    "        self.model_name = 'cifar10_LeNet' # Model type\n",
    "\n",
    "\n",
    "args = config()"
   ]
  },
  {
   "cell_type": "code",
   "execution_count": null,
   "metadata": {},
   "outputs": [],
   "source": [
    "from utils_libs_wy import get_logger\n",
    "\n",
    "# def get_logger(logger_path):\n",
    "#     logging.basicConfig(\n",
    "#         filename=logger_path,\n",
    "#         # filename='/home/qinbin/test.log',\n",
    "#         format='[%(asctime)s] %(levelname)s: %(message)s',\n",
    "#         datefmt='%m-%d %H:%M', \n",
    "#         level=logging.DEBUG, \n",
    "#         filemode='w'\n",
    "#     )\n",
    "\n",
    "#     logger = logging.getLogger()\n",
    "#     logger.setLevel(logging.INFO)\n",
    "#     ch = logging.StreamHandler()\n",
    "#     logger.addHandler(ch)\n",
    "\n",
    "#     return logger "
   ]
  },
  {
   "cell_type": "code",
   "execution_count": null,
   "metadata": {},
   "outputs": [],
   "source": [
    "seed = args.seed\n",
    "random.seed(seed)\n",
    "np.random.seed(seed)\n",
    "torch.manual_seed(seed)\n",
    "if torch.cuda.is_available():\n",
    "    torch.cuda.manual_seed(seed)"
   ]
  },
  {
   "cell_type": "code",
   "execution_count": null,
   "metadata": {},
   "outputs": [],
   "source": [
    "# # Dataset initialization\n",
    "# data_path = args.datadir\n",
    "# n_client = args.n_parties\n",
    "# # Dirichlet (0.3)\n",
    "\n",
    "# data_obj = DatasetObject(dataset=args.dataset.upper(), n_client=n_client, seed=args.seed, unbalanced_sgm=0, rule='Drichlet', rule_arg=args.beta, data_path=data_path)\n"
   ]
  },
  {
   "cell_type": "code",
   "execution_count": null,
   "metadata": {},
   "outputs": [],
   "source": [
    "# Model function\n",
    "model_func = lambda : client_model(args.model_name)\n",
    "init_model = model_func()\n",
    "\n",
    "tag = f\"{args.dataset}-{args.model_name}-{args.alg}-N{args.n_parties}-beta{args.beta}-ep{args.epochs}-lr{args.lr}-round{args.comm_round}\"\n",
    "args.exp_dir = os.path.join(args.rootdir, tag) \n",
    "args.logdir = os.path.join(args.exp_dir, f\"seed{args.seed}\")\n",
    "os.makedirs(args.logdir)\n",
    "\n",
    "argument_path='experiment_arguments-%s.json' % datetime.datetime.now().strftime(\"%Y-%m-%d-%H:%M-%S\")\n",
    "with open(os.path.join(args.logdir, argument_path), 'w') as f:\n",
    "    json.dump(str(args), f)\n",
    "\n",
    "log_path= 'experiment_log-%s' % (datetime.datetime.now().strftime(\"%Y-%m-%d-%H:%M-%S\")) + '.log'\n",
    "logger = get_logger(logger_path=os.path.join(args.logdir, log_path))\n",
    "\n",
    "# load and partition dataset\n",
    "ds, data_info = get_dataset(dataset=args.dataset)  \n",
    "split_distribution, dataidx_map_train = partition_labeldir(\n",
    "    targets=ds['train_labels'], \n",
    "    num_classes=data_info['num_classes'], \n",
    "    n_parties=args.n_parties,\n",
    "    beta=args.beta\n",
    ")\n",
    "client_data_train = make_client_dataset_from_partition(ds['train_data'], args.n_parties, dataidx_map_train)  \n",
    "logger.info('Client dataset partitioning completed')\n",
    "traindata_cls_counts = record_net_data_stats(ds['train_labels'], dataidx_map_train, logger)\n",
    "\n",
    "# local_trainloaders = (DataLoader(client_data_train[i], batch_size=args.batch_size, shuffle=True) for i in range(args.n_parties))\n",
    "# central_testloader = DataLoader(ds[\"test_data\"], batch_size=128, shuffle=False)\n",
    "\n",
    "print(f'Trying {args.alg}')\n",
    "train_FedAvg(\n",
    "    args,\n",
    "    logger,\n",
    "    model_func, \n",
    "    init_model,\n",
    "    client_data_train,\n",
    "    ds[\"test_data\"],\n",
    "    overwrite=True, \n",
    ")      \n"
   ]
  }
 ],
 "metadata": {
  "kernelspec": {
   "display_name": "affl2",
   "language": "python",
   "name": "python3"
  },
  "language_info": {
   "codemirror_mode": {
    "name": "ipython",
    "version": 3
   },
   "file_extension": ".py",
   "mimetype": "text/x-python",
   "name": "python",
   "nbconvert_exporter": "python",
   "pygments_lexer": "ipython3",
   "version": "3.11.3"
  },
  "orig_nbformat": 4
 },
 "nbformat": 4,
 "nbformat_minor": 2
}
