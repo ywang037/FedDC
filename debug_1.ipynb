{
 "cells": [
  {
   "cell_type": "code",
   "execution_count": 1,
   "metadata": {},
   "outputs": [],
   "source": [
    "from utils_general import *\n",
    "from utils_methods import *\n",
    "import json\n",
    "\n",
    "# from utils_methods_FedDC import train_FedDC"
   ]
  },
  {
   "cell_type": "code",
   "execution_count": 2,
   "metadata": {},
   "outputs": [],
   "source": [
    "class config(object):\n",
    "    def __init__(self):\n",
    "        self.dataset=\"cifar10\"\n",
    "        self.device = \"cuda\"\n",
    "        self.comm_round=2\n",
    "        self.lr = 0.01\n",
    "        self.batch_size = 64\n",
    "        self.epochs = 1\n",
    "        self.weight_decay = 1e-3\n",
    "        self.n_parties = 5\n",
    "        self.seed = 43\n",
    "        self.alg=\"fedavg\"\n",
    "        self.rootdir=\"./result/bench2/\"\n",
    "        self.datadir=\"./Folder/\"\n",
    "        self.beta=0.1\n",
    "        self.model = 'cifar10_LeNet' # Model type\n",
    "\n",
    "\n",
    "args = config()"
   ]
  },
  {
   "cell_type": "code",
   "execution_count": 3,
   "metadata": {},
   "outputs": [],
   "source": [
    "from utils_libs_wy import get_logger\n",
    "\n",
    "# def get_logger(logger_path):\n",
    "#     logging.basicConfig(\n",
    "#         filename=logger_path,\n",
    "#         # filename='/home/qinbin/test.log',\n",
    "#         format='[%(asctime)s] %(levelname)s: %(message)s',\n",
    "#         datefmt='%m-%d %H:%M', \n",
    "#         level=logging.DEBUG, \n",
    "#         filemode='w'\n",
    "#     )\n",
    "\n",
    "#     logger = logging.getLogger()\n",
    "#     logger.setLevel(logging.INFO)\n",
    "#     ch = logging.StreamHandler()\n",
    "#     logger.addHandler(ch)\n",
    "\n",
    "#     return logger "
   ]
  },
  {
   "cell_type": "code",
   "execution_count": 4,
   "metadata": {},
   "outputs": [],
   "source": [
    "seed = args.seed\n",
    "random.seed(seed)\n",
    "np.random.seed(seed)\n",
    "torch.manual_seed(seed)\n",
    "if torch.cuda.is_available():\n",
    "    torch.cuda.manual_seed(seed)"
   ]
  },
  {
   "cell_type": "code",
   "execution_count": 5,
   "metadata": {},
   "outputs": [],
   "source": [
    "# # Dataset initialization\n",
    "# data_path = args.datadir\n",
    "# n_client = args.n_parties\n",
    "# # Dirichlet (0.3)\n",
    "\n",
    "# data_obj = DatasetObject(dataset=args.dataset.upper(), n_client=n_client, seed=args.seed, unbalanced_sgm=0, rule='Drichlet', rule_arg=args.beta, data_path=data_path)\n"
   ]
  },
  {
   "cell_type": "code",
   "execution_count": 6,
   "metadata": {},
   "outputs": [
    {
     "name": "stdout",
     "output_type": "stream",
     "text": [
      "Files already downloaded and verified\n",
      "Files already downloaded and verified\n"
     ]
    },
    {
     "name": "stderr",
     "output_type": "stream",
     "text": [
      "Client dataset partitioning completed\n",
      "Client  0 total train data: 13042, distribution: {1: 1, 2: 4990, 4: 3643, 5: 220, 6: 4188}\n",
      "Client  1 total train data:  8714, distribution: {2: 1, 3: 1, 4: 1094, 5: 2960, 6: 607, 7: 4051}\n",
      "Client  2 total train data: 10409, distribution: {0: 4, 1: 4996, 2: 8, 3: 4045, 4: 45, 5: 1311}\n",
      "Client  3 total train data: 12305, distribution: {0: 4995, 1: 2, 3: 953, 4: 1, 5: 508, 6: 1, 7: 846, 8: 4999}\n",
      "Client  4 total train data:  5530, distribution: {0: 1, 1: 1, 2: 1, 3: 1, 4: 217, 5: 1, 6: 204, 7: 103, 8: 1, 9: 5000}\n"
     ]
    },
    {
     "name": "stdout",
     "output_type": "stream",
     "text": [
      "Trying fedavg\n"
     ]
    },
    {
     "name": "stderr",
     "output_type": "stream",
     "text": [
      "Round  0: selected clients: [0, 1, 2, 3, 4]\n",
      "Round  0: training client 0\n",
      "Round  0: training client 1\n"
     ]
    },
    {
     "name": "stdout",
     "output_type": "stream",
     "text": [
      "Epoch  0, Testing Accuracy: 0.1911, Loss: 5.4193\n"
     ]
    },
    {
     "name": "stderr",
     "output_type": "stream",
     "text": [
      "Round  0: training client 2\n"
     ]
    },
    {
     "name": "stdout",
     "output_type": "stream",
     "text": [
      "Epoch  0, Testing Accuracy: 0.2077, Loss: 5.2561\n"
     ]
    },
    {
     "name": "stderr",
     "output_type": "stream",
     "text": [
      "Round  0: training client 3\n"
     ]
    },
    {
     "name": "stdout",
     "output_type": "stream",
     "text": [
      "Epoch  0, Testing Accuracy: 0.2044, Loss: 5.2664\n"
     ]
    },
    {
     "name": "stderr",
     "output_type": "stream",
     "text": [
      "Round  0: training client 4\n"
     ]
    },
    {
     "name": "stdout",
     "output_type": "stream",
     "text": [
      "Epoch  0, Testing Accuracy: 0.2735, Loss: 4.0880\n",
      "Epoch  0, Testing Accuracy: 0.1473, Loss: 4.6610\n"
     ]
    },
    {
     "name": "stderr",
     "output_type": "stream",
     "text": [
      ">> Round  0: global model checkpoint saved\n",
      ">> Round  0: Global model test loss: 2.3482\n",
      ">> Round  0: Global model test accuracy: 14.11%, historical best acc: 14.11%\n",
      "Round  1: selected clients: [0, 1, 2, 3, 4]\n",
      "Round  1: training client 0\n",
      "Round  1: training client 1\n"
     ]
    },
    {
     "name": "stdout",
     "output_type": "stream",
     "text": [
      "Epoch  0, Testing Accuracy: 0.2095, Loss: 5.1626\n"
     ]
    },
    {
     "name": "stderr",
     "output_type": "stream",
     "text": [
      "Round  1: training client 2\n"
     ]
    },
    {
     "name": "stdout",
     "output_type": "stream",
     "text": [
      "Epoch  0, Testing Accuracy: 0.2225, Loss: 4.7967\n"
     ]
    },
    {
     "name": "stderr",
     "output_type": "stream",
     "text": [
      "Round  1: training client 3\n"
     ]
    },
    {
     "name": "stdout",
     "output_type": "stream",
     "text": [
      "Epoch  0, Testing Accuracy: 0.2122, Loss: 4.7696\n"
     ]
    },
    {
     "name": "stderr",
     "output_type": "stream",
     "text": [
      "Round  1: training client 4\n"
     ]
    },
    {
     "name": "stdout",
     "output_type": "stream",
     "text": [
      "Epoch  0, Testing Accuracy: 0.2972, Loss: 3.8804\n",
      "Epoch  0, Testing Accuracy: 0.1659, Loss: 4.2544\n"
     ]
    },
    {
     "name": "stderr",
     "output_type": "stream",
     "text": [
      ">> Round  1: global model checkpoint saved\n",
      ">> Round  1: Global model test loss: 2.1946\n",
      ">> Round  1: Global model test accuracy: 18.81%, historical best acc: 18.81%\n",
      "\n",
      "Session completed at 2023-07-27 01:09:44, time elapsed: 1 mins. That's all folks.\n"
     ]
    }
   ],
   "source": [
    "# # Model function\n",
    "# model_func = lambda : client_model(args.model)\n",
    "# init_model = model_func()\n",
    "\n",
    "\n",
    "\n",
    "tag = f\"{args.dataset}-{args.model}-{args.alg}-N{args.n_parties}-beta{args.beta}-ep{args.epochs}-lr{args.lr}-round{args.comm_round}\"\n",
    "args.exp_dir = os.path.join(args.rootdir, tag) \n",
    "args.logdir = os.path.join(args.exp_dir, f\"seed{args.seed}\")\n",
    "os.makedirs(args.logdir)\n",
    "\n",
    "argument_path='experiment_arguments-%s.json' % datetime.datetime.now().strftime(\"%Y-%m-%d-%H:%M-%S\")\n",
    "with open(os.path.join(args.logdir, argument_path), 'w') as f:\n",
    "    json.dump(str(args), f)\n",
    "\n",
    "log_path= 'experiment_log-%s' % (datetime.datetime.now().strftime(\"%Y-%m-%d-%H:%M-%S\")) + '.log'\n",
    "logger = get_logger(logger_path=os.path.join(args.logdir, log_path))\n",
    "\n",
    "# load and partition dataset\n",
    "ds, data_info = get_dataset(dataset=args.dataset)  \n",
    "split_distribution, dataidx_map_train = partition_labeldir(\n",
    "    targets=ds['train_labels'], \n",
    "    num_classes=data_info['num_classes'], \n",
    "    n_parties=args.n_parties,\n",
    "    beta=args.beta\n",
    ")\n",
    "client_data_train = make_client_dataset_from_partition(ds['train_data'], args.n_parties, dataidx_map_train)  \n",
    "logger.info('Client dataset partitioning completed')\n",
    "traindata_cls_counts = record_net_data_stats(ds['train_labels'], dataidx_map_train, logger)\n",
    "\n",
    "model_func = lambda : ConvNet(\n",
    "    channel=data_info['channel'], \n",
    "    num_classes=data_info['num_classes'], \n",
    "    net_width=128, \n",
    "    net_depth=3, \n",
    "    net_act=\"relu\", \n",
    "    net_norm=\"batchnorm\", \n",
    "    net_pooling=\"avgpooling\", \n",
    "    im_size=data_info['img_size']\n",
    ")\n",
    "init_model = model_func()\n",
    "# init_model.to(args.device)\n",
    "# local_trainloaders = (DataLoader(client_data_train[i], batch_size=args.batch_size, shuffle=True) for i in range(args.n_parties))\n",
    "# central_testloader = DataLoader(ds[\"test_data\"], batch_size=128, shuffle=False)\n",
    "\n",
    "print(f'Trying {args.alg}')\n",
    "train_FedAvg(\n",
    "    args,\n",
    "    logger,\n",
    "    init_model,\n",
    "    client_data_train,\n",
    "    ds[\"test_data\"]\n",
    ")      \n"
   ]
  }
 ],
 "metadata": {
  "kernelspec": {
   "display_name": "affl2",
   "language": "python",
   "name": "python3"
  },
  "language_info": {
   "codemirror_mode": {
    "name": "ipython",
    "version": 3
   },
   "file_extension": ".py",
   "mimetype": "text/x-python",
   "name": "python",
   "nbconvert_exporter": "python",
   "pygments_lexer": "ipython3",
   "version": "3.11.3"
  },
  "orig_nbformat": 4
 },
 "nbformat": 4,
 "nbformat_minor": 2
}
