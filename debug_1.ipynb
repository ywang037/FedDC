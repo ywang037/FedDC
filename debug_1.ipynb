{
 "cells": [
  {
   "cell_type": "code",
   "execution_count": 8,
   "metadata": {},
   "outputs": [],
   "source": [
    "from utils_general import *\n",
    "from utils_methods import *\n",
    "import json\n",
    "\n",
    "# from utils_methods_FedDC import train_FedDC"
   ]
  },
  {
   "cell_type": "code",
   "execution_count": 9,
   "metadata": {},
   "outputs": [],
   "source": [
    "# # Set the GPU you want to use\n",
    "# torch.cuda.set_device(0)  # This line sets the second GPU as the device.\n",
    "\n",
    "# # Now to check whether the correct device is set\n",
    "# print(torch.cuda.current_device()) "
   ]
  },
  {
   "cell_type": "code",
   "execution_count": 10,
   "metadata": {},
   "outputs": [],
   "source": [
    "class config(object):\n",
    "    def __init__(self):\n",
    "        self.dataset=\"cifar10\"\n",
    "        self.device = \"cuda\"\n",
    "        self.comm_round=10\n",
    "        self.lr = 0.01\n",
    "        self.batch_size = 64\n",
    "        self.epochs = 10\n",
    "        self.weight_decay = 1e-3\n",
    "        self.n_parties = 10\n",
    "        self.seed = 42\n",
    "        self.alg=\"fedavg\"\n",
    "        self.rootdir=\"./result/bench2/\"\n",
    "        self.datadir=\"./Folder/\"\n",
    "        self.beta=0.02\n",
    "        self.model = 'convnet' # Model type\n",
    "\n",
    "\n",
    "args = config()"
   ]
  },
  {
   "cell_type": "code",
   "execution_count": 11,
   "metadata": {},
   "outputs": [],
   "source": [
    "from utils_libs_wy import get_logger\n",
    "\n",
    "# def get_logger(logger_path):\n",
    "#     logging.basicConfig(\n",
    "#         filename=logger_path,\n",
    "#         # filename='/home/qinbin/test.log',\n",
    "#         format='[%(asctime)s] %(levelname)s: %(message)s',\n",
    "#         datefmt='%m-%d %H:%M', \n",
    "#         level=logging.DEBUG, \n",
    "#         filemode='w'\n",
    "#     )\n",
    "\n",
    "#     logger = logging.getLogger()\n",
    "#     logger.setLevel(logging.INFO)\n",
    "#     ch = logging.StreamHandler()\n",
    "#     logger.addHandler(ch)\n",
    "\n",
    "#     return logger "
   ]
  },
  {
   "cell_type": "code",
   "execution_count": 12,
   "metadata": {},
   "outputs": [],
   "source": [
    "seed = args.seed\n",
    "random.seed(seed)\n",
    "np.random.seed(seed)\n",
    "torch.manual_seed(seed)\n",
    "if torch.cuda.is_available():\n",
    "    torch.cuda.manual_seed(seed)"
   ]
  },
  {
   "cell_type": "code",
   "execution_count": 13,
   "metadata": {},
   "outputs": [],
   "source": [
    "# # Dataset initialization\n",
    "# data_path = args.datadir\n",
    "# n_client = args.n_parties\n",
    "# # Dirichlet (0.3)\n",
    "\n",
    "# data_obj = DatasetObject(dataset=args.dataset.upper(), n_client=n_client, seed=args.seed, unbalanced_sgm=0, rule='Drichlet', rule_arg=args.beta, data_path=data_path)\n"
   ]
  },
  {
   "cell_type": "code",
   "execution_count": 14,
   "metadata": {},
   "outputs": [
    {
     "name": "stdout",
     "output_type": "stream",
     "text": [
      "Files already downloaded and verified\n",
      "Files already downloaded and verified\n"
     ]
    },
    {
     "name": "stderr",
     "output_type": "stream",
     "text": [
      "Client dataset partitioning completed\n",
      "Client  0 total train data:  7458, distribution: {4: 1006, 6: 1714, 7: 4738}\n",
      "Client  1 total train data:  9728, distribution: {0: 8, 3: 4731, 9: 4989}\n",
      "Client  2 total train data:  3480, distribution: {5: 3480}\n",
      "Client  3 total train data:  3296, distribution: {4: 1, 6: 3285, 9: 10}\n",
      "Client  4 total train data:  3992, distribution: {4: 3992}\n",
      "Client  5 total train data:  4542, distribution: {2: 4143, 3: 138, 7: 261}\n",
      "Client  6 total train data:  5847, distribution: {0: 4991, 2: 856}\n",
      "Client  7 total train data:  5000, distribution: {1: 4999, 2: 1}\n",
      "Client  8 total train data:   143, distribution: {3: 131, 4: 1, 5: 8, 6: 1, 7: 1, 9: 1}\n",
      "Client  9 total train data:  6514, distribution: {0: 1, 1: 1, 5: 1512, 8: 5000}\n"
     ]
    }
   ],
   "source": [
    "# # Model function\n",
    "# model_func = lambda : client_model(args.model)\n",
    "# init_model = model_func()\n",
    "\n",
    "\n",
    "\n",
    "tag = f\"{args.dataset}-{args.model}-{args.alg}-N{args.n_parties}-beta{args.beta}-ep{args.epochs}-lr{args.lr}-round{args.comm_round}\"\n",
    "args.exp_dir = os.path.join(args.rootdir, tag) \n",
    "args.logdir = os.path.join(args.exp_dir, f\"seed{args.seed}\")\n",
    "os.makedirs(args.logdir)\n",
    "\n",
    "argument_path='experiment_arguments-%s.json' % datetime.datetime.now().strftime(\"%Y-%m-%d-%H:%M-%S\")\n",
    "with open(os.path.join(args.logdir, argument_path), 'w') as f:\n",
    "    json.dump(str(args), f)\n",
    "\n",
    "log_path= 'experiment_log-%s' % (datetime.datetime.now().strftime(\"%Y-%m-%d-%H:%M-%S\")) + '.log'\n",
    "logger = get_logger(logger_path=os.path.join(args.logdir, log_path))\n",
    "\n",
    "# load and partition dataset\n",
    "ds, data_info = get_dataset(dataset=args.dataset)  \n",
    "split_distribution, dataidx_map_train = partition_labeldir(\n",
    "    targets=ds['train_labels'], \n",
    "    num_classes=data_info['num_classes'], \n",
    "    n_parties=args.n_parties,\n",
    "    beta=args.beta\n",
    ")\n",
    "client_data_train = make_client_dataset_from_partition(ds['train_data'], args.n_parties, dataidx_map_train)  \n",
    "logger.info('Client dataset partitioning completed')\n",
    "traindata_cls_counts = record_net_data_stats(ds['train_labels'], dataidx_map_train, logger)\n",
    "\n",
    "model_func = lambda : ConvNet(\n",
    "    channel=data_info['channel'], \n",
    "    num_classes=data_info['num_classes'], \n",
    "    net_width=128, \n",
    "    net_depth=3, \n",
    "    net_act=\"relu\", \n",
    "    net_norm=\"batchnorm\", \n",
    "    net_pooling=\"avgpooling\", \n",
    "    im_size=data_info['img_size']\n",
    ")\n",
    "init_model = model_func()\n",
    "# init_model.to(args.device)\n",
    "# local_trainloaders = (DataLoader(client_data_train[i], batch_size=args.batch_size, shuffle=True) for i in range(args.n_parties))\n",
    "# central_testloader = DataLoader(ds[\"test_data\"], batch_size=128, shuffle=False)\n",
    "\n",
    "  \n",
    "\n",
    "args.device=\"mps\""
   ]
  },
  {
   "cell_type": "code",
   "execution_count": 15,
   "metadata": {},
   "outputs": [],
   "source": [
    "# print(f'Trying {args.alg}')\n",
    "# train_FedAvg(\n",
    "#     args,\n",
    "#     logger,\n",
    "#     init_model,\n",
    "#     client_data_train,\n",
    "#     ds[\"test_data\"]\n",
    "# )    "
   ]
  },
  {
   "cell_type": "code",
   "execution_count": 16,
   "metadata": {},
   "outputs": [
    {
     "name": "stderr",
     "output_type": "stream",
     "text": [
      "Round  0: selected clients: [0, 1, 2, 3, 4, 5, 6, 7, 8, 9]\n",
      "Round  0: training client 0\n"
     ]
    },
    {
     "name": "stdout",
     "output_type": "stream",
     "text": [
      "Trying feddc\n"
     ]
    },
    {
     "name": "stderr",
     "output_type": "stream",
     "text": [
      "Round  0: training client 1\n"
     ]
    },
    {
     "name": "stdout",
     "output_type": "stream",
     "text": [
      "Epoch  9, Testing Accuracy: 0.1528, Loss: 4.1861\n"
     ]
    },
    {
     "name": "stderr",
     "output_type": "stream",
     "text": [
      "Round  0: training client 2\n"
     ]
    },
    {
     "name": "stdout",
     "output_type": "stream",
     "text": [
      "Epoch  9, Testing Accuracy: 0.1770, Loss: 4.8642\n"
     ]
    },
    {
     "name": "stderr",
     "output_type": "stream",
     "text": [
      "Round  0: training client 3\n"
     ]
    },
    {
     "name": "stdout",
     "output_type": "stream",
     "text": [
      "Epoch  9, Testing Accuracy: 0.1000, Loss: 5.1165\n"
     ]
    },
    {
     "name": "stderr",
     "output_type": "stream",
     "text": [
      "Round  0: training client 4\n"
     ]
    },
    {
     "name": "stdout",
     "output_type": "stream",
     "text": [
      "Epoch  9, Testing Accuracy: 0.1000, Loss: 5.3821\n"
     ]
    },
    {
     "name": "stderr",
     "output_type": "stream",
     "text": [
      "Round  0: training client 5\n"
     ]
    },
    {
     "name": "stdout",
     "output_type": "stream",
     "text": [
      "Epoch  9, Testing Accuracy: 0.1000, Loss: 5.3989\n"
     ]
    },
    {
     "name": "stderr",
     "output_type": "stream",
     "text": [
      "Round  0: training client 6\n"
     ]
    },
    {
     "name": "stdout",
     "output_type": "stream",
     "text": [
      "Epoch  9, Testing Accuracy: 0.1000, Loss: 4.1317\n"
     ]
    },
    {
     "name": "stderr",
     "output_type": "stream",
     "text": [
      "Round  0: training client 7\n"
     ]
    },
    {
     "name": "stdout",
     "output_type": "stream",
     "text": [
      "Epoch  9, Testing Accuracy: 0.1257, Loss: 4.3644\n"
     ]
    },
    {
     "name": "stderr",
     "output_type": "stream",
     "text": [
      "Round  0: training client 8\n"
     ]
    },
    {
     "name": "stdout",
     "output_type": "stream",
     "text": [
      "Epoch  9, Testing Accuracy: 0.1000, Loss: 5.3278\n"
     ]
    },
    {
     "name": "stderr",
     "output_type": "stream",
     "text": [
      "Round  0: training client 9\n"
     ]
    },
    {
     "name": "stdout",
     "output_type": "stream",
     "text": [
      "Epoch  9, Testing Accuracy: 0.1000, Loss: 2.4826\n",
      "Epoch  9, Testing Accuracy: 0.1645, Loss: 4.5930\n"
     ]
    },
    {
     "name": "stderr",
     "output_type": "stream",
     "text": [
      ">> Round  0: global model checkpoint saved\n",
      ">> Round  0: Global model test loss: 2.3036\n",
      ">> Round  0: Global model test accuracy: 9.34%, historical best acc: 9.34%\n",
      "Round  1: selected clients: [0, 1, 2, 3, 4, 5, 6, 7, 8, 9]\n",
      "Round  1: training client 0\n",
      "Round  1: training client 1\n"
     ]
    },
    {
     "name": "stdout",
     "output_type": "stream",
     "text": [
      "Epoch  9, Testing Accuracy: 0.1002, Loss: 3.2302\n"
     ]
    },
    {
     "name": "stderr",
     "output_type": "stream",
     "text": [
      "Round  1: training client 2\n"
     ]
    },
    {
     "name": "stdout",
     "output_type": "stream",
     "text": [
      "Epoch  9, Testing Accuracy: 0.1581, Loss: 3.1965\n"
     ]
    },
    {
     "name": "stderr",
     "output_type": "stream",
     "text": [
      "Round  1: training client 3\n"
     ]
    },
    {
     "name": "stdout",
     "output_type": "stream",
     "text": [
      "Epoch  9, Testing Accuracy: 0.1000, Loss: 3.8116\n"
     ]
    },
    {
     "name": "stderr",
     "output_type": "stream",
     "text": [
      "Round  1: training client 4\n"
     ]
    },
    {
     "name": "stdout",
     "output_type": "stream",
     "text": [
      "Epoch  9, Testing Accuracy: 0.1000, Loss: 4.0719\n"
     ]
    },
    {
     "name": "stderr",
     "output_type": "stream",
     "text": [
      "Round  1: training client 5\n"
     ]
    },
    {
     "name": "stdout",
     "output_type": "stream",
     "text": [
      "Epoch  9, Testing Accuracy: 0.1000, Loss: 3.9735\n"
     ]
    },
    {
     "name": "stderr",
     "output_type": "stream",
     "text": [
      "Round  1: training client 6\n"
     ]
    },
    {
     "name": "stdout",
     "output_type": "stream",
     "text": [
      "Epoch  9, Testing Accuracy: 0.1000, Loss: 3.4632\n"
     ]
    },
    {
     "name": "stderr",
     "output_type": "stream",
     "text": [
      "Round  1: training client 7\n"
     ]
    },
    {
     "name": "stdout",
     "output_type": "stream",
     "text": [
      "Epoch  9, Testing Accuracy: 0.1056, Loss: 3.1430\n"
     ]
    },
    {
     "name": "stderr",
     "output_type": "stream",
     "text": [
      "Round  1: training client 8\n"
     ]
    },
    {
     "name": "stdout",
     "output_type": "stream",
     "text": [
      "Epoch  9, Testing Accuracy: 0.1000, Loss: 3.7718\n"
     ]
    },
    {
     "name": "stderr",
     "output_type": "stream",
     "text": [
      "Round  1: training client 9\n"
     ]
    },
    {
     "name": "stdout",
     "output_type": "stream",
     "text": [
      "Epoch  9, Testing Accuracy: 0.1000, Loss: 2.3896\n",
      "Epoch  9, Testing Accuracy: 0.1385, Loss: 3.1757\n"
     ]
    },
    {
     "name": "stderr",
     "output_type": "stream",
     "text": [
      ">> Round  1: Global model test loss: 2.3036\n",
      ">> Round  1: Global model test accuracy: 9.34%, historical best acc: 9.34%\n",
      "Round  2: selected clients: [0, 1, 2, 3, 4, 5, 6, 7, 8, 9]\n",
      "Round  2: training client 0\n",
      "Round  2: training client 1\n"
     ]
    },
    {
     "name": "stdout",
     "output_type": "stream",
     "text": [
      "Epoch  9, Testing Accuracy: 0.1276, Loss: 2.7604\n"
     ]
    },
    {
     "name": "stderr",
     "output_type": "stream",
     "text": [
      "Round  2: training client 2\n"
     ]
    },
    {
     "name": "stdout",
     "output_type": "stream",
     "text": [
      "Epoch  9, Testing Accuracy: 0.1805, Loss: 2.8560\n"
     ]
    },
    {
     "name": "stderr",
     "output_type": "stream",
     "text": [
      "Round  2: training client 3\n"
     ]
    },
    {
     "name": "stdout",
     "output_type": "stream",
     "text": [
      "Epoch  9, Testing Accuracy: 0.1000, Loss: 3.3485\n"
     ]
    },
    {
     "name": "stderr",
     "output_type": "stream",
     "text": [
      "Round  2: training client 4\n"
     ]
    },
    {
     "name": "stdout",
     "output_type": "stream",
     "text": [
      "Epoch  9, Testing Accuracy: 0.1000, Loss: 3.6757\n"
     ]
    },
    {
     "name": "stderr",
     "output_type": "stream",
     "text": [
      "Round  2: training client 5\n"
     ]
    },
    {
     "name": "stdout",
     "output_type": "stream",
     "text": [
      "Epoch  9, Testing Accuracy: 0.1000, Loss: 3.4752\n"
     ]
    },
    {
     "name": "stderr",
     "output_type": "stream",
     "text": [
      "Round  2: training client 6\n"
     ]
    },
    {
     "name": "stdout",
     "output_type": "stream",
     "text": [
      "Epoch  9, Testing Accuracy: 0.1000, Loss: 3.1364\n"
     ]
    },
    {
     "name": "stderr",
     "output_type": "stream",
     "text": [
      "Round  2: training client 7\n"
     ]
    },
    {
     "name": "stdout",
     "output_type": "stream",
     "text": [
      "Epoch  9, Testing Accuracy: 0.1000, Loss: 2.8575\n"
     ]
    },
    {
     "name": "stderr",
     "output_type": "stream",
     "text": [
      "Round  2: training client 8\n"
     ]
    },
    {
     "name": "stdout",
     "output_type": "stream",
     "text": [
      "Epoch  9, Testing Accuracy: 0.1000, Loss: 3.3390\n"
     ]
    },
    {
     "name": "stderr",
     "output_type": "stream",
     "text": [
      "Round  2: training client 9\n"
     ]
    },
    {
     "name": "stdout",
     "output_type": "stream",
     "text": [
      "Epoch  9, Testing Accuracy: 0.1103, Loss: 2.4007\n",
      "Epoch  9, Testing Accuracy: 0.1437, Loss: 2.8479\n"
     ]
    },
    {
     "name": "stderr",
     "output_type": "stream",
     "text": [
      ">> Round  2: Global model test loss: 2.3036\n",
      ">> Round  2: Global model test accuracy: 9.34%, historical best acc: 9.34%\n",
      "Round  3: selected clients: [0, 1, 2, 3, 4, 5, 6, 7, 8, 9]\n",
      "Round  3: training client 0\n",
      "Round  3: training client 1\n"
     ]
    },
    {
     "name": "stdout",
     "output_type": "stream",
     "text": [
      "Epoch  9, Testing Accuracy: 0.1171, Loss: 2.6769\n"
     ]
    },
    {
     "name": "stderr",
     "output_type": "stream",
     "text": [
      "Round  3: training client 2\n"
     ]
    },
    {
     "name": "stdout",
     "output_type": "stream",
     "text": [
      "Epoch  9, Testing Accuracy: 0.1734, Loss: 2.9009\n"
     ]
    },
    {
     "name": "stderr",
     "output_type": "stream",
     "text": [
      "Round  3: training client 3\n"
     ]
    },
    {
     "name": "stdout",
     "output_type": "stream",
     "text": [
      "Epoch  9, Testing Accuracy: 0.1000, Loss: 3.0882\n"
     ]
    },
    {
     "name": "stderr",
     "output_type": "stream",
     "text": [
      "Round  3: training client 4\n"
     ]
    },
    {
     "name": "stdout",
     "output_type": "stream",
     "text": [
      "Epoch  9, Testing Accuracy: 0.1000, Loss: 3.2982\n"
     ]
    },
    {
     "name": "stderr",
     "output_type": "stream",
     "text": [
      "Round  3: training client 5\n"
     ]
    },
    {
     "name": "stdout",
     "output_type": "stream",
     "text": [
      "Epoch  9, Testing Accuracy: 0.1000, Loss: 3.2128\n"
     ]
    },
    {
     "name": "stderr",
     "output_type": "stream",
     "text": [
      "Round  3: training client 6\n"
     ]
    },
    {
     "name": "stdout",
     "output_type": "stream",
     "text": [
      "Epoch  9, Testing Accuracy: 0.1000, Loss: 2.9770\n"
     ]
    },
    {
     "name": "stderr",
     "output_type": "stream",
     "text": [
      "Round  3: training client 7\n"
     ]
    },
    {
     "name": "stdout",
     "output_type": "stream",
     "text": [
      "Epoch  9, Testing Accuracy: 0.1024, Loss: 2.6670\n"
     ]
    },
    {
     "name": "stderr",
     "output_type": "stream",
     "text": [
      "Round  3: training client 8\n"
     ]
    },
    {
     "name": "stdout",
     "output_type": "stream",
     "text": [
      "Epoch  9, Testing Accuracy: 0.1000, Loss: 3.0560\n"
     ]
    },
    {
     "name": "stderr",
     "output_type": "stream",
     "text": [
      "Round  3: training client 9\n"
     ]
    },
    {
     "name": "stdout",
     "output_type": "stream",
     "text": [
      "Epoch  9, Testing Accuracy: 0.1000, Loss: 2.3898\n",
      "Epoch  9, Testing Accuracy: 0.1504, Loss: 2.6625\n"
     ]
    },
    {
     "name": "stderr",
     "output_type": "stream",
     "text": [
      ">> Round  3: Global model test loss: 2.3036\n",
      ">> Round  3: Global model test accuracy: 9.34%, historical best acc: 9.34%\n",
      "Round  4: selected clients: [0, 1, 2, 3, 4, 5, 6, 7, 8, 9]\n",
      "Round  4: training client 0\n",
      "Round  4: training client 1\n"
     ]
    },
    {
     "name": "stdout",
     "output_type": "stream",
     "text": [
      "Epoch  9, Testing Accuracy: 0.1706, Loss: 2.5194\n"
     ]
    },
    {
     "name": "stderr",
     "output_type": "stream",
     "text": [
      "Round  4: training client 2\n"
     ]
    },
    {
     "name": "stdout",
     "output_type": "stream",
     "text": [
      "Epoch  9, Testing Accuracy: 0.1824, Loss: 3.2302\n"
     ]
    },
    {
     "name": "stderr",
     "output_type": "stream",
     "text": [
      "Round  4: training client 3\n"
     ]
    },
    {
     "name": "stdout",
     "output_type": "stream",
     "text": [
      "Epoch  9, Testing Accuracy: 0.1000, Loss: 2.9074\n"
     ]
    },
    {
     "name": "stderr",
     "output_type": "stream",
     "text": [
      "Round  4: training client 4\n"
     ]
    },
    {
     "name": "stdout",
     "output_type": "stream",
     "text": [
      "Epoch  9, Testing Accuracy: 0.1000, Loss: 3.1482\n"
     ]
    },
    {
     "name": "stderr",
     "output_type": "stream",
     "text": [
      "Round  4: training client 5\n"
     ]
    },
    {
     "name": "stdout",
     "output_type": "stream",
     "text": [
      "Epoch  9, Testing Accuracy: 0.1000, Loss: 3.0043\n"
     ]
    },
    {
     "name": "stderr",
     "output_type": "stream",
     "text": [
      "Round  4: training client 6\n"
     ]
    },
    {
     "name": "stdout",
     "output_type": "stream",
     "text": [
      "Epoch  9, Testing Accuracy: 0.1000, Loss: 2.8110\n"
     ]
    },
    {
     "name": "stderr",
     "output_type": "stream",
     "text": [
      "Round  4: training client 7\n"
     ]
    },
    {
     "name": "stdout",
     "output_type": "stream",
     "text": [
      "Epoch  9, Testing Accuracy: 0.1200, Loss: 2.6332\n"
     ]
    },
    {
     "name": "stderr",
     "output_type": "stream",
     "text": [
      "Round  4: training client 8\n"
     ]
    },
    {
     "name": "stdout",
     "output_type": "stream",
     "text": [
      "Epoch  9, Testing Accuracy: 0.1000, Loss: 2.9232\n"
     ]
    },
    {
     "name": "stderr",
     "output_type": "stream",
     "text": [
      "Round  4: training client 9\n"
     ]
    },
    {
     "name": "stdout",
     "output_type": "stream",
     "text": [
      "Epoch  9, Testing Accuracy: 0.1002, Loss: 2.3360\n",
      "Epoch  9, Testing Accuracy: 0.1678, Loss: 2.7456\n"
     ]
    },
    {
     "name": "stderr",
     "output_type": "stream",
     "text": [
      ">> Round  4: Global model test loss: 2.3036\n",
      ">> Round  4: Global model test accuracy: 9.34%, historical best acc: 9.34%\n",
      "Round  5: selected clients: [0, 1, 2, 3, 4, 5, 6, 7, 8, 9]\n",
      "Round  5: training client 0\n",
      "Round  5: training client 1\n"
     ]
    },
    {
     "name": "stdout",
     "output_type": "stream",
     "text": [
      "Epoch  9, Testing Accuracy: 0.1602, Loss: 2.6608\n"
     ]
    },
    {
     "name": "stderr",
     "output_type": "stream",
     "text": [
      "Round  5: training client 2\n"
     ]
    },
    {
     "name": "stdout",
     "output_type": "stream",
     "text": [
      "Epoch  9, Testing Accuracy: 0.1775, Loss: 3.7287\n"
     ]
    },
    {
     "name": "stderr",
     "output_type": "stream",
     "text": [
      "Round  5: training client 3\n"
     ]
    },
    {
     "name": "stdout",
     "output_type": "stream",
     "text": [
      "Epoch  9, Testing Accuracy: 0.1000, Loss: 2.8108\n"
     ]
    },
    {
     "name": "stderr",
     "output_type": "stream",
     "text": [
      "Round  5: training client 4\n"
     ]
    },
    {
     "name": "stdout",
     "output_type": "stream",
     "text": [
      "Epoch  9, Testing Accuracy: 0.1000, Loss: 2.9653\n"
     ]
    },
    {
     "name": "stderr",
     "output_type": "stream",
     "text": [
      "Round  5: training client 5\n"
     ]
    },
    {
     "name": "stdout",
     "output_type": "stream",
     "text": [
      "Epoch  9, Testing Accuracy: 0.1000, Loss: 2.9272\n"
     ]
    }
   ],
   "source": [
    "args.alg = \"feddc\"\n",
    "args.alpha = 1e-2\n",
    "# args.lr=0.1\n",
    "n_data_per_client_avg = len(ds[\"train_data\"]) / args.n_parties\n",
    "n_iter_per_epoch  = np.ceil(n_data_per_client_avg/args.batch_size)\n",
    "n_minibatch = (args.epochs*n_iter_per_epoch).astype(np.int64)\n",
    "\n",
    "from utils_methods_wy import train_FedDC_wy\n",
    "print(f'Trying {args.alg}')\n",
    "train_FedDC_wy(\n",
    "    args,\n",
    "    logger,\n",
    "    init_model,\n",
    "    client_data_train,\n",
    "    ds[\"test_data\"],\n",
    "    n_minibatch,\n",
    "    args.alpha\n",
    ")    "
   ]
  },
  {
   "cell_type": "code",
   "execution_count": null,
   "metadata": {},
   "outputs": [],
   "source": [
    "# clnt_mdl = copy.deepcopy(init_model.to(args.device))"
   ]
  },
  {
   "cell_type": "code",
   "execution_count": null,
   "metadata": {},
   "outputs": [],
   "source": [
    "# get_mdl_params(clnt_mdl)"
   ]
  },
  {
   "cell_type": "code",
   "execution_count": null,
   "metadata": {},
   "outputs": [],
   "source": []
  }
 ],
 "metadata": {
  "kernelspec": {
   "display_name": "affl2",
   "language": "python",
   "name": "python3"
  },
  "language_info": {
   "codemirror_mode": {
    "name": "ipython",
    "version": 3
   },
   "file_extension": ".py",
   "mimetype": "text/x-python",
   "name": "python",
   "nbconvert_exporter": "python",
   "pygments_lexer": "ipython3",
   "version": "3.11.3"
  },
  "orig_nbformat": 4
 },
 "nbformat": 4,
 "nbformat_minor": 2
}
