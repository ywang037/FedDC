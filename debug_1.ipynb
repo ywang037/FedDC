{
 "cells": [
  {
   "cell_type": "code",
   "execution_count": 1,
   "metadata": {},
   "outputs": [],
   "source": [
    "from utils_general import *\n",
    "from utils_methods import *\n",
    "import json\n",
    "\n",
    "# from utils_methods_FedDC import train_FedDC"
   ]
  },
  {
   "cell_type": "code",
   "execution_count": 2,
   "metadata": {},
   "outputs": [],
   "source": [
    "class config(object):\n",
    "    def __init__(self):\n",
    "        self.dataset=\"cifar10\"\n",
    "        self.device = \"cuda\"\n",
    "        self.comm_round=2\n",
    "        self.lr = 0.01\n",
    "        self.batch_size = 64\n",
    "        self.epochs = 1\n",
    "        self.weight_decay = 1e-3\n",
    "        self.n_parties = 10\n",
    "        self.seed = 42\n",
    "        self.alg=\"fedavg\"\n",
    "        self.rootdir=\"./result/bench2/\"\n",
    "        self.datadir=\"./Folder/\"\n",
    "        self.beta=0.1\n",
    "        self.model_name = 'cifar10_LeNet' # Model type\n",
    "\n",
    "\n",
    "args = config()"
   ]
  },
  {
   "cell_type": "code",
   "execution_count": 3,
   "metadata": {},
   "outputs": [],
   "source": [
    "from utils_libs_wy import get_logger\n",
    "\n",
    "# def get_logger(logger_path):\n",
    "#     logging.basicConfig(\n",
    "#         filename=logger_path,\n",
    "#         # filename='/home/qinbin/test.log',\n",
    "#         format='[%(asctime)s] %(levelname)s: %(message)s',\n",
    "#         datefmt='%m-%d %H:%M', \n",
    "#         level=logging.DEBUG, \n",
    "#         filemode='w'\n",
    "#     )\n",
    "\n",
    "#     logger = logging.getLogger()\n",
    "#     logger.setLevel(logging.INFO)\n",
    "#     ch = logging.StreamHandler()\n",
    "#     logger.addHandler(ch)\n",
    "\n",
    "#     return logger "
   ]
  },
  {
   "cell_type": "code",
   "execution_count": 4,
   "metadata": {},
   "outputs": [],
   "source": [
    "seed = args.seed\n",
    "random.seed(seed)\n",
    "np.random.seed(seed)\n",
    "torch.manual_seed(seed)\n",
    "if torch.cuda.is_available():\n",
    "    torch.cuda.manual_seed(seed)"
   ]
  },
  {
   "cell_type": "code",
   "execution_count": 5,
   "metadata": {},
   "outputs": [],
   "source": [
    "# # Dataset initialization\n",
    "# data_path = args.datadir\n",
    "# n_client = args.n_parties\n",
    "# # Dirichlet (0.3)\n",
    "\n",
    "# data_obj = DatasetObject(dataset=args.dataset.upper(), n_client=n_client, seed=args.seed, unbalanced_sgm=0, rule='Drichlet', rule_arg=args.beta, data_path=data_path)\n"
   ]
  },
  {
   "cell_type": "code",
   "execution_count": 6,
   "metadata": {},
   "outputs": [
    {
     "name": "stdout",
     "output_type": "stream",
     "text": [
      "Trying fedavg\n",
      "Downloading https://www.cs.toronto.edu/~kriz/cifar-10-python.tar.gz to ./data/CIFAR10\\cifar-10-python.tar.gz\n"
     ]
    },
    {
     "name": "stderr",
     "output_type": "stream",
     "text": [
      "100%|██████████| 170498071/170498071 [00:13<00:00, 12307719.47it/s]\n"
     ]
    },
    {
     "name": "stdout",
     "output_type": "stream",
     "text": [
      "Extracting ./data/CIFAR10\\cifar-10-python.tar.gz to ./data/CIFAR10\n",
      "Files already downloaded and verified\n"
     ]
    },
    {
     "ename": "AttributeError",
     "evalue": "'config' object has no attribute 'num_clients'",
     "output_type": "error",
     "traceback": [
      "\u001b[1;31m---------------------------------------------------------------------------\u001b[0m",
      "\u001b[1;31mAttributeError\u001b[0m                            Traceback (most recent call last)",
      "Cell \u001b[1;32mIn[6], line 20\u001b[0m\n\u001b[0;32m     16\u001b[0m logger \u001b[39m=\u001b[39m get_logger(logger_path\u001b[39m=\u001b[39mos\u001b[39m.\u001b[39mpath\u001b[39m.\u001b[39mjoin(args\u001b[39m.\u001b[39mlogdir, log_path))\n\u001b[0;32m     19\u001b[0m \u001b[39mprint\u001b[39m(\u001b[39mf\u001b[39m\u001b[39m'\u001b[39m\u001b[39mTrying \u001b[39m\u001b[39m{\u001b[39;00margs\u001b[39m.\u001b[39malg\u001b[39m}\u001b[39;00m\u001b[39m'\u001b[39m)\n\u001b[1;32m---> 20\u001b[0m train_FedAvg(\n\u001b[0;32m     21\u001b[0m     args,\n\u001b[0;32m     22\u001b[0m     logger,\n\u001b[0;32m     23\u001b[0m     model_func, \n\u001b[0;32m     24\u001b[0m     init_model, \n\u001b[0;32m     25\u001b[0m     overwrite\u001b[39m=\u001b[39m\u001b[39mTrue\u001b[39;00m, \n\u001b[0;32m     26\u001b[0m )\n",
      "File \u001b[1;32mc:\\Users\\YWANG\\atr-data-distillation\\FedDC\\utils_methods.py:49\u001b[0m, in \u001b[0;36mtrain_FedAvg\u001b[1;34m(args, logger, model_func, init_model, overwrite)\u001b[0m\n\u001b[0;32m     42\u001b[0m ds, data_info \u001b[39m=\u001b[39m get_dataset(dataset\u001b[39m=\u001b[39margs\u001b[39m.\u001b[39mdataset)  \n\u001b[0;32m     43\u001b[0m split_distribution, dataidx_map_train \u001b[39m=\u001b[39m partition_labeldir(\n\u001b[0;32m     44\u001b[0m     targets\u001b[39m=\u001b[39mds[\u001b[39m'\u001b[39m\u001b[39mtrain_labels\u001b[39m\u001b[39m'\u001b[39m], \n\u001b[0;32m     45\u001b[0m     num_classes\u001b[39m=\u001b[39mdata_info[\u001b[39m'\u001b[39m\u001b[39mnum_classes\u001b[39m\u001b[39m'\u001b[39m], \n\u001b[0;32m     46\u001b[0m     n_parties\u001b[39m=\u001b[39mn_clnt,\n\u001b[0;32m     47\u001b[0m     beta\u001b[39m=\u001b[39margs\u001b[39m.\u001b[39mbeta\n\u001b[0;32m     48\u001b[0m )\n\u001b[1;32m---> 49\u001b[0m client_data_train \u001b[39m=\u001b[39m make_client_dataset_from_partition(ds[\u001b[39m'\u001b[39m\u001b[39mtrain_data\u001b[39m\u001b[39m'\u001b[39m], args\u001b[39m.\u001b[39mnum_clients, dataidx_map_train)  \n\u001b[0;32m     50\u001b[0m logger\u001b[39m.\u001b[39minfo(\u001b[39m'\u001b[39m\u001b[39mClient dataset partitioning completed\u001b[39m\u001b[39m'\u001b[39m)\n\u001b[0;32m     51\u001b[0m traindata_cls_counts \u001b[39m=\u001b[39m record_net_data_stats(ds[\u001b[39m'\u001b[39m\u001b[39mtrain_labels\u001b[39m\u001b[39m'\u001b[39m], dataidx_map_train, logger)\n",
      "\u001b[1;31mAttributeError\u001b[0m: 'config' object has no attribute 'num_clients'"
     ]
    }
   ],
   "source": [
    "# Model function\n",
    "model_func = lambda : client_model(args.model_name)\n",
    "init_model = model_func()\n",
    "\n",
    "tag = f\"{args.dataset}-{args.model_name}-{args.alg}-N{args.n_parties}-beta{args.beta}-ep{args.epochs}-lr{args.lr}-round{args.comm_round}\"\n",
    "args.exp_dir = os.path.join(args.rootdir, tag) \n",
    "args.logdir = os.path.join(args.exp_dir, f\"seed{args.seed}\")\n",
    "os.makedirs(args.logdir)\n",
    "\n",
    "args.argument_path='experiment_arguments-%s.json' % datetime.datetime.now().strftime(\"%Y-%m-%d-%H:%M-%S\")\n",
    "with open(os.path.join(args.logdir, args.argument_path), 'w') as f:\n",
    "    json.dump(str(args), f)\n",
    "device = torch.device(args.device)\n",
    "\n",
    "log_path= 'experiment_log-%s' % (datetime.datetime.now().strftime(\"%Y-%m-%d-%H:%M-%S\")) + '.log'\n",
    "logger = get_logger(logger_path=os.path.join(args.logdir, log_path))\n",
    "\n",
    "\n",
    "print(f'Trying {args.alg}')\n",
    "train_FedAvg(\n",
    "    args,\n",
    "    logger,\n",
    "    model_func, \n",
    "    init_model, \n",
    "    overwrite=True, \n",
    ")      \n"
   ]
  }
 ],
 "metadata": {
  "kernelspec": {
   "display_name": "affl2",
   "language": "python",
   "name": "python3"
  },
  "language_info": {
   "codemirror_mode": {
    "name": "ipython",
    "version": 3
   },
   "file_extension": ".py",
   "mimetype": "text/x-python",
   "name": "python",
   "nbconvert_exporter": "python",
   "pygments_lexer": "ipython3",
   "version": "3.11.3"
  },
  "orig_nbformat": 4
 },
 "nbformat": 4,
 "nbformat_minor": 2
}
