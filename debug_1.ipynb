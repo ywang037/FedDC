{
 "cells": [
  {
   "cell_type": "code",
   "execution_count": 11,
   "metadata": {},
   "outputs": [],
   "source": [
    "from utils_general import *\n",
    "from utils_methods import *\n",
    "import json\n",
    "\n",
    "# from utils_methods_FedDC import train_FedDC"
   ]
  },
  {
   "cell_type": "code",
   "execution_count": 12,
   "metadata": {},
   "outputs": [],
   "source": [
    "# # Set the GPU you want to use\n",
    "# torch.cuda.set_device(0)  # This line sets the second GPU as the device.\n",
    "\n",
    "# # Now to check whether the correct device is set\n",
    "# print(torch.cuda.current_device()) "
   ]
  },
  {
   "cell_type": "code",
   "execution_count": 13,
   "metadata": {},
   "outputs": [],
   "source": [
    "class config(object):\n",
    "    def __init__(self):\n",
    "        self.dataset=\"cifar10\"\n",
    "        self.device = \"cuda\"\n",
    "        self.comm_round=2\n",
    "        self.lr = 0.01\n",
    "        self.batch_size = 64\n",
    "        self.epochs = 1\n",
    "        self.weight_decay = 1e-3\n",
    "        self.n_parties = 5\n",
    "        self.seed = 43\n",
    "        self.alg=\"fedavg\"\n",
    "        self.rootdir=\"./result/bench2/\"\n",
    "        self.datadir=\"./Folder/\"\n",
    "        self.beta=0.1\n",
    "        self.model = 'cifar10_LeNet' # Model type\n",
    "\n",
    "\n",
    "args = config()"
   ]
  },
  {
   "cell_type": "code",
   "execution_count": 14,
   "metadata": {},
   "outputs": [],
   "source": [
    "from utils_libs_wy import get_logger\n",
    "\n",
    "# def get_logger(logger_path):\n",
    "#     logging.basicConfig(\n",
    "#         filename=logger_path,\n",
    "#         # filename='/home/qinbin/test.log',\n",
    "#         format='[%(asctime)s] %(levelname)s: %(message)s',\n",
    "#         datefmt='%m-%d %H:%M', \n",
    "#         level=logging.DEBUG, \n",
    "#         filemode='w'\n",
    "#     )\n",
    "\n",
    "#     logger = logging.getLogger()\n",
    "#     logger.setLevel(logging.INFO)\n",
    "#     ch = logging.StreamHandler()\n",
    "#     logger.addHandler(ch)\n",
    "\n",
    "#     return logger "
   ]
  },
  {
   "cell_type": "code",
   "execution_count": 15,
   "metadata": {},
   "outputs": [],
   "source": [
    "seed = args.seed\n",
    "random.seed(seed)\n",
    "np.random.seed(seed)\n",
    "torch.manual_seed(seed)\n",
    "if torch.cuda.is_available():\n",
    "    torch.cuda.manual_seed(seed)"
   ]
  },
  {
   "cell_type": "code",
   "execution_count": 16,
   "metadata": {},
   "outputs": [],
   "source": [
    "# # Dataset initialization\n",
    "# data_path = args.datadir\n",
    "# n_client = args.n_parties\n",
    "# # Dirichlet (0.3)\n",
    "\n",
    "# data_obj = DatasetObject(dataset=args.dataset.upper(), n_client=n_client, seed=args.seed, unbalanced_sgm=0, rule='Drichlet', rule_arg=args.beta, data_path=data_path)\n"
   ]
  },
  {
   "cell_type": "code",
   "execution_count": 17,
   "metadata": {},
   "outputs": [
    {
     "ename": "FileExistsError",
     "evalue": "[Errno 17] File exists: './result/bench2/cifar10-cifar10_LeNet-fedavg-N5-beta0.1-ep1-lr0.01-round2/seed43'",
     "output_type": "error",
     "traceback": [
      "\u001b[0;31m---------------------------------------------------------------------------\u001b[0m",
      "\u001b[0;31mFileExistsError\u001b[0m                           Traceback (most recent call last)",
      "Cell \u001b[0;32mIn[17], line 10\u001b[0m\n\u001b[1;32m      8\u001b[0m args\u001b[39m.\u001b[39mexp_dir \u001b[39m=\u001b[39m os\u001b[39m.\u001b[39mpath\u001b[39m.\u001b[39mjoin(args\u001b[39m.\u001b[39mrootdir, tag) \n\u001b[1;32m      9\u001b[0m args\u001b[39m.\u001b[39mlogdir \u001b[39m=\u001b[39m os\u001b[39m.\u001b[39mpath\u001b[39m.\u001b[39mjoin(args\u001b[39m.\u001b[39mexp_dir, \u001b[39mf\u001b[39m\u001b[39m\"\u001b[39m\u001b[39mseed\u001b[39m\u001b[39m{\u001b[39;00margs\u001b[39m.\u001b[39mseed\u001b[39m}\u001b[39;00m\u001b[39m\"\u001b[39m)\n\u001b[0;32m---> 10\u001b[0m os\u001b[39m.\u001b[39;49mmakedirs(args\u001b[39m.\u001b[39;49mlogdir)\n\u001b[1;32m     12\u001b[0m argument_path\u001b[39m=\u001b[39m\u001b[39m'\u001b[39m\u001b[39mexperiment_arguments-\u001b[39m\u001b[39m%s\u001b[39;00m\u001b[39m.json\u001b[39m\u001b[39m'\u001b[39m \u001b[39m%\u001b[39m datetime\u001b[39m.\u001b[39mdatetime\u001b[39m.\u001b[39mnow()\u001b[39m.\u001b[39mstrftime(\u001b[39m\"\u001b[39m\u001b[39m%\u001b[39m\u001b[39mY-\u001b[39m\u001b[39m%\u001b[39m\u001b[39mm-\u001b[39m\u001b[39m%d\u001b[39;00m\u001b[39m-\u001b[39m\u001b[39m%\u001b[39m\u001b[39mH:\u001b[39m\u001b[39m%\u001b[39m\u001b[39mM-\u001b[39m\u001b[39m%\u001b[39m\u001b[39mS\u001b[39m\u001b[39m\"\u001b[39m)\n\u001b[1;32m     13\u001b[0m \u001b[39mwith\u001b[39;00m \u001b[39mopen\u001b[39m(os\u001b[39m.\u001b[39mpath\u001b[39m.\u001b[39mjoin(args\u001b[39m.\u001b[39mlogdir, argument_path), \u001b[39m'\u001b[39m\u001b[39mw\u001b[39m\u001b[39m'\u001b[39m) \u001b[39mas\u001b[39;00m f:\n",
      "File \u001b[0;32m<frozen os>:225\u001b[0m, in \u001b[0;36mmakedirs\u001b[0;34m(name, mode, exist_ok)\u001b[0m\n",
      "\u001b[0;31mFileExistsError\u001b[0m: [Errno 17] File exists: './result/bench2/cifar10-cifar10_LeNet-fedavg-N5-beta0.1-ep1-lr0.01-round2/seed43'"
     ]
    }
   ],
   "source": [
    "# # Model function\n",
    "# model_func = lambda : client_model(args.model)\n",
    "# init_model = model_func()\n",
    "\n",
    "\n",
    "\n",
    "tag = f\"{args.dataset}-{args.model}-{args.alg}-N{args.n_parties}-beta{args.beta}-ep{args.epochs}-lr{args.lr}-round{args.comm_round}\"\n",
    "args.exp_dir = os.path.join(args.rootdir, tag) \n",
    "args.logdir = os.path.join(args.exp_dir, f\"seed{args.seed}\")\n",
    "os.makedirs(args.logdir)\n",
    "\n",
    "argument_path='experiment_arguments-%s.json' % datetime.datetime.now().strftime(\"%Y-%m-%d-%H:%M-%S\")\n",
    "with open(os.path.join(args.logdir, argument_path), 'w') as f:\n",
    "    json.dump(str(args), f)\n",
    "\n",
    "log_path= 'experiment_log-%s' % (datetime.datetime.now().strftime(\"%Y-%m-%d-%H:%M-%S\")) + '.log'\n",
    "logger = get_logger(logger_path=os.path.join(args.logdir, log_path))\n",
    "\n",
    "# load and partition dataset\n",
    "ds, data_info = get_dataset(dataset=args.dataset)  \n",
    "split_distribution, dataidx_map_train = partition_labeldir(\n",
    "    targets=ds['train_labels'], \n",
    "    num_classes=data_info['num_classes'], \n",
    "    n_parties=args.n_parties,\n",
    "    beta=args.beta\n",
    ")\n",
    "client_data_train = make_client_dataset_from_partition(ds['train_data'], args.n_parties, dataidx_map_train)  \n",
    "logger.info('Client dataset partitioning completed')\n",
    "traindata_cls_counts = record_net_data_stats(ds['train_labels'], dataidx_map_train, logger)\n",
    "\n",
    "model_func = lambda : ConvNet(\n",
    "    channel=data_info['channel'], \n",
    "    num_classes=data_info['num_classes'], \n",
    "    net_width=128, \n",
    "    net_depth=3, \n",
    "    net_act=\"relu\", \n",
    "    net_norm=\"batchnorm\", \n",
    "    net_pooling=\"avgpooling\", \n",
    "    im_size=data_info['img_size']\n",
    ")\n",
    "init_model = model_func()\n",
    "# init_model.to(args.device)\n",
    "# local_trainloaders = (DataLoader(client_data_train[i], batch_size=args.batch_size, shuffle=True) for i in range(args.n_parties))\n",
    "# central_testloader = DataLoader(ds[\"test_data\"], batch_size=128, shuffle=False)\n",
    "\n",
    "  \n",
    "\n",
    "args.device=\"mps\""
   ]
  },
  {
   "cell_type": "code",
   "execution_count": null,
   "metadata": {},
   "outputs": [],
   "source": [
    "# print(f'Trying {args.alg}')\n",
    "# train_FedAvg(\n",
    "#     args,\n",
    "#     logger,\n",
    "#     init_model,\n",
    "#     client_data_train,\n",
    "#     ds[\"test_data\"]\n",
    "# )    "
   ]
  },
  {
   "cell_type": "code",
   "execution_count": null,
   "metadata": {},
   "outputs": [],
   "source": [
    "args.alg = \"feddc\"\n",
    "args.alpha = 1e-2\n",
    "# args.lr=0.1\n",
    "n_data_per_client_avg = len(ds[\"train_data\"]) / args.n_parties\n",
    "n_iter_per_epoch  = np.ceil(n_data_per_client_avg/args.batch_size)\n",
    "n_minibatch = (args.epochs*n_iter_per_epoch).astype(np.int64)\n",
    "\n",
    "from utils_methods_wy import train_FedDC_wy\n",
    "print(f'Trying {args.alg}')\n",
    "train_FedDC_wy(\n",
    "    args,\n",
    "    logger,\n",
    "    init_model,\n",
    "    client_data_train,\n",
    "    ds[\"test_data\"],\n",
    "    n_minibatch,\n",
    "    args.alpha\n",
    ")    "
   ]
  },
  {
   "cell_type": "code",
   "execution_count": null,
   "metadata": {},
   "outputs": [],
   "source": [
    "# clnt_mdl = copy.deepcopy(init_model.to(args.device))"
   ]
  },
  {
   "cell_type": "code",
   "execution_count": null,
   "metadata": {},
   "outputs": [],
   "source": [
    "# get_mdl_params(clnt_mdl)"
   ]
  },
  {
   "cell_type": "code",
   "execution_count": null,
   "metadata": {},
   "outputs": [],
   "source": []
  }
 ],
 "metadata": {
  "kernelspec": {
   "display_name": "affl2",
   "language": "python",
   "name": "python3"
  },
  "language_info": {
   "codemirror_mode": {
    "name": "ipython",
    "version": 3
   },
   "file_extension": ".py",
   "mimetype": "text/x-python",
   "name": "python",
   "nbconvert_exporter": "python",
   "pygments_lexer": "ipython3",
   "version": "3.11.3"
  },
  "orig_nbformat": 4
 },
 "nbformat": 4,
 "nbformat_minor": 2
}
